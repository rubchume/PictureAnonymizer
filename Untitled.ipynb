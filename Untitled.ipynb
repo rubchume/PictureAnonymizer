{
 "cells": [
  {
   "cell_type": "markdown",
   "metadata": {
    "toc": true
   },
   "source": [
    "<h1>Table of Contents<span class=\"tocSkip\"></span></h1>\n",
    "<div class=\"toc\"><ul class=\"toc-item\"></ul></div>"
   ]
  },
  {
   "cell_type": "code",
   "execution_count": 3,
   "metadata": {},
   "outputs": [],
   "source": [
    "import numpy as np\n",
    "import matplotlib.pyplot as plt\n",
    "import io\n",
    "from skimage.io import imread\n",
    "from skimage.filters import gaussian\n",
    "\n",
    "from src.blur_faces import blur_faces, get_face_rectangles, read_image"
   ]
  },
  {
   "cell_type": "code",
   "execution_count": 4,
   "metadata": {},
   "outputs": [],
   "source": [
    "blur_faces(\"tests/helpers/loshombresdepaco.jpeg\", \"tests/helpers/loshombresdepacoblurred2.png\")"
   ]
  },
  {
   "cell_type": "code",
   "execution_count": null,
   "metadata": {},
   "outputs": [],
   "source": [
    "image_bytes = read_image(\"tests/helpers/loshombresdepaco.jpeg\")\n",
    "face_rectangles = get_face_rectangles(image)"
   ]
  },
  {
   "cell_type": "code",
   "execution_count": null,
   "metadata": {},
   "outputs": [],
   "source": [
    "face_rectangles"
   ]
  },
  {
   "cell_type": "code",
   "execution_count": null,
   "metadata": {},
   "outputs": [],
   "source": [
    "image = imread(image_bytes, plugin=\"imageio\")"
   ]
  },
  {
   "cell_type": "code",
   "execution_count": null,
   "metadata": {},
   "outputs": [],
   "source": [
    "rectangle = face_rectangles[0]\n",
    "face_region = image[rectangle.y_min:rectangle.y_max, rectangle.x_min:rectangle.x_max]"
   ]
  },
  {
   "cell_type": "code",
   "execution_count": null,
   "metadata": {},
   "outputs": [],
   "source": [
    "blurred_face = gaussian(face_region, 3, multichannel=True)\n",
    "blurred_face"
   ]
  },
  {
   "cell_type": "markdown",
   "metadata": {},
   "source": [
    "# Try alternative to cv2"
   ]
  },
  {
   "cell_type": "code",
   "execution_count": null,
   "metadata": {},
   "outputs": [],
   "source": [
    "from PIL import Image\n",
    "import io\n",
    "from src import blur_faces\n",
    "from skimage import io as skimageio\n",
    "from skimage.io import imsave\n",
    "\n",
    "image_bytes = blur_faces.read_image(\"tests/helpers/ExamplePicture.jpg\")\n",
    "image_array = skimageio.imread(image_bytes, plugin=\"imageio\")\n",
    "\n",
    "PIL_image = Image.fromarray(image_array)\n",
    "\n",
    "with open(\"puta.png\", \"wb\") as puta:\n",
    "    PIL_image.save(puta)\n",
    "    \n",
    "temp = io.BytesIO()\n",
    "PIL_image.save(temp, format=\"PNG\")\n",
    "image_bytes = temp.getvalue()"
   ]
  },
  {
   "cell_type": "code",
   "execution_count": null,
   "metadata": {},
   "outputs": [],
   "source": []
  }
 ],
 "metadata": {
  "kernelspec": {
   "display_name": "Python 3",
   "language": "python",
   "name": "python3"
  },
  "language_info": {
   "codemirror_mode": {
    "name": "ipython",
    "version": 3
   },
   "file_extension": ".py",
   "mimetype": "text/x-python",
   "name": "python",
   "nbconvert_exporter": "python",
   "pygments_lexer": "ipython3",
   "version": "3.8.5"
  },
  "toc": {
   "base_numbering": 1,
   "nav_menu": {},
   "number_sections": true,
   "sideBar": true,
   "skip_h1_title": false,
   "title_cell": "Table of Contents",
   "title_sidebar": "Contents",
   "toc_cell": true,
   "toc_position": {},
   "toc_section_display": true,
   "toc_window_display": false
  }
 },
 "nbformat": 4,
 "nbformat_minor": 4
}
