{
 "cells": [
  {
   "cell_type": "markdown",
   "metadata": {
    "toc": true
   },
   "source": [
    "<h1>Table of Contents<span class=\"tocSkip\"></span></h1>\n",
    "<div class=\"toc\"><ul class=\"toc-item\"></ul></div>"
   ]
  },
  {
   "cell_type": "code",
   "execution_count": 1,
   "metadata": {},
   "outputs": [],
   "source": [
    "import cv2\n",
    "import numpy as np\n",
    "import matplotlib.pyplot as plt\n",
    "import io\n",
    "\n",
    "from src.blur_faces import blur_faces, get_face_rectangles, read_image"
   ]
  },
  {
   "cell_type": "code",
   "execution_count": 2,
   "metadata": {},
   "outputs": [
    {
     "name": "stdout",
     "output_type": "stream",
     "text": [
      "[ImageRectangle(x_min=337, x_max=466, y_min=159, y_max=309), ImageRectangle(x_min=480, x_max=615, y_min=144, y_max=301), ImageRectangle(x_min=676, x_max=833, y_min=48, y_max=231), ImageRectangle(x_min=113, x_max=303, y_min=81, y_max=302)]\n",
      "New face\n",
      "ImageRectangle(x_min=337, x_max=466, y_min=159, y_max=309)\n",
      "New face\n",
      "ImageRectangle(x_min=480, x_max=615, y_min=144, y_max=301)\n",
      "New face\n",
      "ImageRectangle(x_min=676, x_max=833, y_min=48, y_max=231)\n",
      "New face\n",
      "ImageRectangle(x_min=113, x_max=303, y_min=81, y_max=302)\n"
     ]
    }
   ],
   "source": [
    "blur_faces(\"tests/helpers/loshombresdepaco.jpeg\", \"tests/helpers/loshombresdepacoblurred2.png\")"
   ]
  },
  {
   "cell_type": "code",
   "execution_count": null,
   "metadata": {},
   "outputs": [],
   "source": [
    "image = read_image(\"tests/helpers/loshombresdepaco.jpeg\")\n",
    "face_rectangles = get_face_rectangles(image)"
   ]
  },
  {
   "cell_type": "code",
   "execution_count": null,
   "metadata": {},
   "outputs": [],
   "source": [
    "face_rectangles"
   ]
  },
  {
   "cell_type": "code",
   "execution_count": null,
   "metadata": {},
   "outputs": [],
   "source": [
    "with io.open(\"tests/helpers/blurred.png\", \"rb\") as blurred_image_file:\n",
    "    with io.open(\"tests/helpers/loshombresdepacoblurred.png\", \"rb\") as expected_image_file:\n",
    "        blurred_image_bytes = blurred_image_file.read()\n",
    "        nparr = np.frombuffer(blurred_image_bytes, np.uint8)\n",
    "        blurred_image = cv2.imdecode(nparr, cv2.IMREAD_COLOR)\n",
    "\n",
    "        expected_image_bytes = expected_image_file.read()\n",
    "        nparr = np.frombuffer(expected_image_bytes, np.uint8)\n",
    "        expected_image = cv2.imdecode(nparr, cv2.IMREAD_COLOR)"
   ]
  },
  {
   "cell_type": "code",
   "execution_count": null,
   "metadata": {},
   "outputs": [],
   "source": [
    "plt.imshow(expected_image[159:309, 337:466])"
   ]
  },
  {
   "cell_type": "code",
   "execution_count": null,
   "metadata": {},
   "outputs": [],
   "source": [
    "np.where(np.any(np.equal(blurred_image, expected_image) == False, axis=2).any(axis=1))"
   ]
  },
  {
   "cell_type": "code",
   "execution_count": null,
   "metadata": {},
   "outputs": [],
   "source": [
    "np.where(np.any(np.equal(blurred_image, expected_image) == False, axis=2).any(axis=0))"
   ]
  }
 ],
 "metadata": {
  "kernelspec": {
   "display_name": "Python 3",
   "language": "python",
   "name": "python3"
  },
  "language_info": {
   "codemirror_mode": {
    "name": "ipython",
    "version": 3
   },
   "file_extension": ".py",
   "mimetype": "text/x-python",
   "name": "python",
   "nbconvert_exporter": "python",
   "pygments_lexer": "ipython3",
   "version": "3.8.5"
  },
  "toc": {
   "base_numbering": 1,
   "nav_menu": {},
   "number_sections": true,
   "sideBar": true,
   "skip_h1_title": false,
   "title_cell": "Table of Contents",
   "title_sidebar": "Contents",
   "toc_cell": true,
   "toc_position": {},
   "toc_section_display": true,
   "toc_window_display": false
  }
 },
 "nbformat": 4,
 "nbformat_minor": 4
}
